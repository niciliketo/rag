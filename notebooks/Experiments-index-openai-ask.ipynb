{
 "cells": [
  {
   "cell_type": "code",
   "execution_count": 4,
   "id": "16f75f04-ca1d-4a88-bc5b-ebdcdf4f9f8b",
   "metadata": {},
   "outputs": [],
   "source": [
    "import os.path\n",
    "from fastapi import FastAPI\n",
    "from langchain.chains import RetrievalQA\n",
    "from langchain.vectorstores import ElasticVectorSearch\n",
    "from langchain.vectorstores import ElasticsearchStore\n",
    "from langchain_openai import ChatOpenAI, OpenAIEmbeddings\n",
    "import os"
   ]
  },
  {
   "cell_type": "code",
   "execution_count": 6,
   "id": "5f303825-1772-4a61-b5b3-61c5871be418",
   "metadata": {},
   "outputs": [
    {
     "data": {
      "text/plain": [
       "True"
      ]
     },
     "execution_count": 6,
     "metadata": {},
     "output_type": "execute_result"
    }
   ],
   "source": [
    "from dotenv import load_dotenv\n",
    "\n",
    "load_dotenv()"
   ]
  },
  {
   "cell_type": "code",
   "execution_count": 7,
   "id": "41343584-ba6f-4cef-abce-51ef0917fc8e",
   "metadata": {},
   "outputs": [],
   "source": [
    "embeddings = OpenAIEmbeddings()\n"
   ]
  },
  {
   "cell_type": "code",
   "execution_count": 9,
   "id": "fce65268-33a1-44b2-89ef-f3a003522e52",
   "metadata": {},
   "outputs": [
    {
     "name": "stderr",
     "output_type": "stream",
     "text": [
      "/usr/local/lib/python3.10/site-packages/langchain_community/vectorstores/elastic_vector_search.py:143: UserWarning: ElasticVectorSearch will be removed in a future release. SeeElasticsearch integration docs on how to upgrade.\n",
      "  warnings.warn(\n"
     ]
    }
   ],
   "source": [
    "db = ElasticVectorSearch(\n",
    "    elasticsearch_url=\"http://elasticsearch:9200\",\n",
    "    index_name=\"elastic-index\",\n",
    "    embedding=embeddings,\n",
    ")"
   ]
  },
  {
   "cell_type": "code",
   "execution_count": 12,
   "id": "97bafdd3-1337-4672-8d11-5febc9772a21",
   "metadata": {},
   "outputs": [
    {
     "name": "stderr",
     "output_type": "stream",
     "text": [
      "/usr/local/lib/python3.10/site-packages/langchain_core/_api/deprecation.py:117: LangChainDeprecationWarning: The function `__call__` was deprecated in LangChain 0.1.0 and will be removed in 0.2.0. Use invoke instead.\n",
      "  warn_deprecated(\n"
     ]
    },
    {
     "data": {
      "text/plain": [
       "{'query': 'what type of encryption is used',\n",
       " 'result': 'For connection to the developed online services, a 2048 bit RSA key is used, and the key material is signed using SHA-256 with RSA Encryption. \\n\\nFor connection to the cloud-based document and file services, elliptic curve cryptography is used with a 256 bit key and a 256 bit base point order length. The key material is signed using SHA-256 with RSA Encryption.',\n",
       " 'source_documents': [Document(page_content='A.10.1.1 Policy on the use of cryptographic controls\\n\\n7th July 2022\\n\\nDocument History\\n\\nLast Review: 21/07/2023\\n\\nLast Approved: 5/7/23\\n\\nDate Who Notes 2022-05-18 NM Created 2022-06-24 NM Updated as part of ISMS creation 2022-07-07 NM Updated following technical and management review\\n\\nWhat we do\\n\\nThe policy below is designed to ensure that cryptographic controls (i.e. the use of encryption technologies) is applied in a consistent, adequate and proportionate manner and that key material is formally managed.\\n\\n------------------------------------\\n\\nPolicy\\n\\nThe purpose of this policy is to protect the confidentiality, integrity and availability of the organisation ’s Information by applying appropriate levels of Cryptographic control.\\n\\nPolicy Statements\\n\\nGeneral principles\\n\\nAll critical or sensitive data transferred outside of the organisation must be encrypted.\\n\\nAll removable media, including memory sticks, must be encrypted.\\n\\nLaptop hard drives must be encrypted.\\n\\nAll remote access must take place via encrypted terminal or VPN services.\\n\\nWi-Fi Protected Access encryption is mandatory for all wireless networks carrying organisational data (including domestic networks where remote working is undertaken).\\n\\nWhere available SCP (Secure Copy Protocol) or GCP’s gsutil cp (GCP specific copy command) must be used for file transfer.\\n\\nIf SCP or gsutil cp are not available, file sharing using Google Drive or a customer approved alternative may be considered. If more valuable information is to be transferred and neither of these methods are available, the risks must be identified, evaluated and accepted by the risk owner prior to use.\\n\\nEncryption of data in transit\\n\\nData classifications are defined here.\\n\\nData classified as “Proprietary” must be encrypted in transit.\\n\\nData classified as “Confidential” should be encrypted wherever possible and practical.\\n\\nData classified as “Public” may be sent unencrypted.\\n\\nEncryption of data at rest\\n\\nData classified as “Proprietary” should be encrypted wherever possible and practical.\\n\\nData classified as “Confidential” should be encrypted wherever possible and practical.\\n\\nData classified as “Public” may be left unencrypted at rest.\\n\\nKey management\\n\\nEncryption keys must be securely managed, preferably in a central location, such that all information encrypted by the organisation can be decrypted if required.\\n\\nRules relating to encryption on removable media are contained within the Management of removable media policy (A.8.3.1)\\n\\nThe strength of encryption to be used must be considered against the risks associated with the assets to be encrypted. As a guide, a minimum of 2048 bit encryption is strongly recommended.\\n\\nSome technologies for VPN or SSL/TLS use AES 256-bit encryption and this is viewed as sufficiently secure.\\n\\nRoles and responsibilities\\n\\nEnsuring that the organisation maintains the highest practicable standard of encryption is the responsibility of the TISO.\\n\\nKey management responsibility lies with the IT administrators.\\n\\nAll individuals are responsible for ensuring that “Sensitive” data is encrypted before leaving the organisation’s premises or systems.\\n\\nRegulation of cryptographic controls\\n\\nFor any use of cryptographic controls exported outside of the UK the following considerations are made:\\n\\nRegulatory controls for any country to which data is exported outside the UK must be checked to ensure that cryptographic legislation will not be contravened.\\n\\nRestrictions on import and/or export of computer hardware and software for performing cryptographic functions (e.g. under the Wassennaar Arrangement for export controls for conventional arms and dual-use goods and technologies);\\n\\nRestrictions on import and/or export of computer hardware and software which is designed to have cryptographic functions added to it;\\n\\nRestrictions on the usage of encryption; and\\n\\nMandatory or discretionary methods of access by the countries’ authorities to information encrypted by hardware or software to provide confidentiality of content.\\n\\nConsequences of non-compliance with this policy\\n\\nAny non-compliance with or breach of policy may lead to investigation and action in line with the organisational Disciplinary Process (A.7.2.3).\\n\\nA.10.1.1 Policy on the use of cryptographic controls - Classification: Proprietary -', metadata={'source': '/app/data/A.10.1.1 Policy on the use of cryptographic controls.docx'}),\n",
       "  Document(page_content='A.13.1.1 Network controls\\n\\n8 June 2022\\n\\nDocument History\\n\\nLast Review: 21/07/2023\\n\\nLast Approval: 17/07/2023\\n\\nDate Who Notes 2022-06-08 NM Created 2023-06-12 NM Updated to reflect changes to document storage encryption 2023-07-17 ND Re-approved\\n\\nWhat we do\\n\\nAs we primarily use cloud-based services for our operations, we do not have a traditional Local Area Network (LAN).\\n\\nWe access the cloud-based services over the internet via a network provided by an Internet Service Provider.\\n\\nThe cloud-based service providers and the Internet Service Provider are responsible for their own network controls including:\\n\\nNetwork authentication;\\n\\nNetwork services availability;\\n\\nNetwork protection controls such as:\\n\\nAuthentication mechanisms;\\n\\nFirewalls;\\n\\nAnti-denial of service technologies;\\n\\nAnti-malware controls; and\\n\\nIntrusion detection & prevention technologies.\\n\\nSegregation and encryption of data flowing within their network(s);\\n\\nEncryption of data at rest; and\\n\\nLogging and monitoring (A.12.4)\\n\\nWe gain assurance for the provision of these services through our controls relating to management of Supplier relationships (A.15). As the services we take are from large commercial cloud suppliers, the network services agreement forms part of the suppliers’ terms and conditions.\\n\\nTo ensure that our interactions with cloud-based services remain secure, connections use the TLS protocol to create an https session.\\n\\nEncryption of internet sessions\\n\\nFor connection to our developed online services:\\n\\nUses a 2048 bit RSA key\\n\\nKey material is signed using SHA-256 with RSA Encryption\\n\\nFor connection to our cloud-based document and file services:\\n\\nUses a 4096 bit RSA key\\n\\nKey material is signed using SHA-384 With RSA Encryption\\n\\nA.13.1.1 Network controls - Classification: Proprietary -', metadata={'source': '/app/data/A.13.1.1 Network controls_.docx'}),\n",
       "  Document(page_content=\"A.14.1.2 Securing application services on public networks\\n\\n30th September 2022\\n\\nDocument History\\n\\nLast Review: 01/08/2023\\n\\nLast Approval: 30th August 2023 \\n\\nDate Who Notes 2022-07-06 NM Created 2022-07-13 NM Updated with further details 2022-08-10 NM Updated following review 2022-09-30 NM Updated to reflect no PII on website\\n\\nWhat we do\\n\\nFor our software services\\n\\nWe secure the confidentiality, integrity, authenticity of the communicating client and actions they may perform across the transport and application layers.\\n\\nTransport layer\\n\\nCommunication with the service must use HTTPS which protects the confidentiality and integrity of the data during transmission\\n\\nApplication Layer\\n\\nAuthentication\\n\\nThe user authenticates with a username and password; an api key; or using a 3rd party.\\n\\nOn successful authentication the application sends the user a token that is used to authenticate the user for subsequent communication in their session.\\n\\nAuthentication requirements for users may be set by their organisation based on their own information security standards (e.g. an organisation can mandate use of a particular SSO provider).\\n\\nAuthorisation\\n\\nBased on the business rules of the application.\\n\\nFor our websites\\n\\nThe information on the website is completely public and we do not store any personal information. \\n\\nTransport layer\\n\\nCommunication with the service must use HTTPS which protects the confidentiality and integrity of the data during transmission\\n\\nApplication Layer\\n\\nUsers do not need to sign in to use our website and therefore there is no authentication or authorisation requirement.\\n\\nFor cloud services\\n\\nOur use of cloud services is via HTTPS or a similarly secure protocol (e.g. SSH).\\n\\nServices that don't offer a secure connection must be evaluated to ensure that the security risks are acceptable. We include information on using https in our security training and encourage the Market Dojo team to use tools such as HTTPS Everywhere.\\n\\nEncryption of internet sessions\\n\\nFor connection to our developed online services:\\n\\nUses a 2048 bit RSA key\\n\\nKey material is signed using SHA-256 with RSA Encryption\\n\\nFor connection to our cloud-based document and file services:\\n\\nUses elliptic curve cryptography\\n\\nUses a 256 bit key with a 256 bit base point order length\\n\\nKey material is signed using SHA-256 with RSA Encryption\\n\\nA.14.1.2 Securing application services on public networks - Classification: Proprietary -\", metadata={'source': '/app/data/A.14.1.2 Securing application services on public networks_.docx'}),\n",
       "  Document(page_content=\"Encryption, Authentication, Authorisation, Auditability and PAM\\n85. Please provide how the service and the data is protected in transit and at rest. For example, server encryption, database encryption, storage encryption, which protocols, key strengths and key management.\\nFor connection to our developed online services:\\\\nUses a 2048 bit RSA key\\\\nKey material is signed using SHA-256 with RSA Encryption\\\\n\\\\nData is encrypted at rest using AES-256.\\\\n\\n1\\n\\n\\nEncryption, Authentication, Authorisation, Auditability and PAM\\n86. Which supplier or sub contractor staff have access to Control Risks data and where are they located? This includes access to backups of Control Risks data.\\nGCP host data.\\n1\\n\\n\\nInformation Security Policy\\n87. What are the precautions taken to ensure the security of the devices used by the supplier or subcontractor staff to access the system or data? For instance, is there a standard build with regular security/antivirus updates? Are laptops encrypted? Do they have disabled USB ports?\\nLaptops are encrypted and have a/v enabled. These are part of a standard build and requirements of our employee handbook.\\\\n\\\\nSubcontractors are expected to follow similar standards, however they do not have access to customer data.\\\\n\\\\nIt's important to note that these precautions are part of a broader set of security measures outlined in the organization's information security management system (ISMS) policies. The specific precautions taken may also depend on the sensitivity of the data being accessed and the level of risk associated with the supplier or subcontractor's access\\n1\\n\\n\\nInformation Security Policy\\n88. Are supplier or subcontractor staff permitted to use non-standard devices such as home computers to access the system or data? If so, what controls are there to prevent accidental data leakage (accidental or deliberate) or corruption, e.g., through malware?\\nYes, employees may use other devices. We have a mobile device (BYOD) policy which requires similar security standards as company owned devices\\n1\\n\\n\\nInformation Security Policy\\n89. Are supplier or subcontractor staff permitted to use mobile devices to access the system or data? If so, what controls are there to prevent data leakage (accidental or deliberate) or corruption, e.g., through malware?\\nYes. We have a mobile device (BYOD) policy which requires similar security standards as company owned devices\\n1\\n\\n\\nInformation Security Policy\\n90. What are the restrictions (procedural and technical) on information being copied off the system by the supplier or sub contractor staff?\\nProduction data may not be copied off our production systems by employees.\\n1\\n\\n\\nInformation Security Policy\\n91. What are the restrictions (procedural and technical) on information being copied off the system by the end user? By an administrator?\\nExtract of data is based on user permissions. \\\\nThe application does provide tools to allow customers to export data in Excel or PDF format.\\\\nWe also provide a REST API which can be used for extracting data (e.g. reporting purposes)\\n1\\n\\n\\nEncryption, Authentication, Authorisation, Auditability and PAM\\n92. What are all the different levels of privilege used by supplier staff for accessing the service?\\nThere are two main roles\\\\n- Market Dojo Admin. This is a role within the application which allows named members of our support staff to interrogate configuration data and impersonate users.\\\\n- Operations. This is a role for named members of our operations team, which gives them granular permissions to our backend systems. The specific permissions may depend on the purpose of access.\\n1\\n\\n\\nEncryption, Authentication, Authorisation, Auditability and PAM\\n93. For each level of privilege above, describe the group of people within the supplier organisation (and subcontractors): approximately how many there are; who they are employed by (supplier or subcontractor)\\nThere are two main roles\\\\n- Market Dojo Admin. This is a role within the application which allows named members of our support staff to interrogate configuration data and impersonate users.\\\\n- Operations. This is a role for named members of our operations team, which gives them granular permissions to our backend systems. The specific permissions may depend on the purpose of access.\\n1\\n\\n\\nEncryption, Authentication, Authorisation, Auditability and PAM\\n94. What is the authentication method for each privilege level? Is there any facility for MFA/2FA? If so, is this compulsory or optional?\\nMFA is required by both these roles.\\n1\", metadata={'source': '/app/data/Supplier InfoSec Questionnaire v1.7.xlsx'})]}"
      ]
     },
     "execution_count": 12,
     "metadata": {},
     "output_type": "execute_result"
    }
   ],
   "source": [
    "qa = RetrievalQA.from_chain_type(\n",
    "    llm=ChatOpenAI(temperature=0),\n",
    "    chain_type=\"stuff\",\n",
    "    retriever=db.as_retriever(),\n",
    "    return_source_documents=True,\n",
    ")\n",
    "qa('what type of encryption is used')"
   ]
  },
  {
   "cell_type": "code",
   "execution_count": 13,
   "id": "42e19da3-4e41-4b49-a6e7-b8cf7a109cd7",
   "metadata": {},
   "outputs": [
    {
     "ename": "NameError",
     "evalue": "name 'RecursiveCharacterTextSplitter' is not defined",
     "output_type": "error",
     "traceback": [
      "\u001b[0;31m---------------------------------------------------------------------------\u001b[0m",
      "\u001b[0;31mNameError\u001b[0m                                 Traceback (most recent call last)",
      "Cell \u001b[0;32mIn[13], line 2\u001b[0m\n\u001b[1;32m      1\u001b[0m embeddings \u001b[38;5;241m=\u001b[39m OpenAIEmbeddings()\n\u001b[0;32m----> 2\u001b[0m text_splitter \u001b[38;5;241m=\u001b[39m \u001b[43mRecursiveCharacterTextSplitter\u001b[49m\u001b[38;5;241m.\u001b[39mfrom_tiktoken_encoder(\n\u001b[1;32m      3\u001b[0m     chunk_size\u001b[38;5;241m=\u001b[39m\u001b[38;5;241m1000\u001b[39m, chunk_overlap\u001b[38;5;241m=\u001b[39m\u001b[38;5;241m0\u001b[39m\n\u001b[1;32m      4\u001b[0m )\n\u001b[1;32m      5\u001b[0m documents \u001b[38;5;241m=\u001b[39m text_splitter\u001b[38;5;241m.\u001b[39msplit_documents(data)\n",
      "\u001b[0;31mNameError\u001b[0m: name 'RecursiveCharacterTextSplitter' is not defined"
     ]
    }
   ],
   "source": [
    "embeddings = OpenAIEmbeddings()\n",
    "text_splitter = RecursiveCharacterTextSplitter.from_tiktoken_encoder(\n",
    "    chunk_size=1000, chunk_overlap=0\n",
    ")\n",
    "documents = text_splitter.split_documents(data)"
   ]
  },
  {
   "cell_type": "code",
   "execution_count": 6,
   "id": "5cfbffae-5c8c-439e-8c13-ccc7512a592e",
   "metadata": {},
   "outputs": [
    {
     "name": "stderr",
     "output_type": "stream",
     "text": [
      "/usr/local/lib/python3.10/site-packages/langchain_community/vectorstores/elastic_vector_search.py:143: UserWarning: ElasticVectorSearch will be removed in a future release. SeeElasticsearch integration docs on how to upgrade.\n",
      "  warnings.warn(\n"
     ]
    }
   ],
   "source": [
    "db = ElasticVectorSearch.from_documents(\n",
    "        documents,\n",
    "        embeddings,\n",
    "        elasticsearch_url=\"http://elasticsearch:9200\",\n",
    "        index_name=\"elastic-index\",\n",
    "    )"
   ]
  },
  {
   "cell_type": "code",
   "execution_count": 7,
   "id": "6de9d8da-349c-41d6-89b5-a89fc459bb75",
   "metadata": {},
   "outputs": [
    {
     "data": {
      "text/plain": [
       "ObjectApiResponse({'name': '5c78fedd8bc2', 'cluster_name': 'docker-cluster', 'cluster_uuid': '56nCuJd3SmmeB4fsXj8vXA', 'version': {'number': '8.9.2', 'build_flavor': 'default', 'build_type': 'docker', 'build_hash': 'e8179018838f55b8820685f92e245abef3bddc0f', 'build_date': '2023-08-31T02:43:14.210479707Z', 'build_snapshot': False, 'lucene_version': '9.7.0', 'minimum_wire_compatibility_version': '7.17.0', 'minimum_index_compatibility_version': '7.0.0'}, 'tagline': 'You Know, for Search'})"
      ]
     },
     "execution_count": 7,
     "metadata": {},
     "output_type": "execute_result"
    }
   ],
   "source": [
    "db.client.info()"
   ]
  },
  {
   "cell_type": "code",
   "execution_count": null,
   "id": "51204a7e-cddc-42ca-8aa8-a8ccec0c1329",
   "metadata": {},
   "outputs": [],
   "source": []
  }
 ],
 "metadata": {
  "kernelspec": {
   "display_name": "Python 3 (ipykernel)",
   "language": "python",
   "name": "python3"
  },
  "language_info": {
   "codemirror_mode": {
    "name": "ipython",
    "version": 3
   },
   "file_extension": ".py",
   "mimetype": "text/x-python",
   "name": "python",
   "nbconvert_exporter": "python",
   "pygments_lexer": "ipython3",
   "version": "3.10.13"
  }
 },
 "nbformat": 4,
 "nbformat_minor": 5
}
